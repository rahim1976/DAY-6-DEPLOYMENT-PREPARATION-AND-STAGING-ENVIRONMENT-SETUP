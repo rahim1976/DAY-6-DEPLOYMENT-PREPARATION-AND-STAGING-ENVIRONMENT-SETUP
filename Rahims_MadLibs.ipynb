{
  "nbformat": 4,
  "nbformat_minor": 0,
  "metadata": {
    "colab": {
      "provenance": [],
      "authorship_tag": "ABX9TyOMyLtR34KHLnOMG0WyJ6FL",
      "include_colab_link": true
    },
    "kernelspec": {
      "name": "python3",
      "display_name": "Python 3"
    },
    "language_info": {
      "name": "python"
    }
  },
  "cells": [
    {
      "cell_type": "markdown",
      "metadata": {
        "id": "view-in-github",
        "colab_type": "text"
      },
      "source": [
        "<a href=\"https://colab.research.google.com/github/rahim1976/DAY-6-DEPLOYMENT-PREPARATION-AND-STAGING-ENVIRONMENT-SETUP/blob/main/Rahims_MadLibs.ipynb\" target=\"_parent\"><img src=\"https://colab.research.google.com/assets/colab-badge.svg\" alt=\"Open In Colab\"/></a>"
      ]
    },
    {
      "cell_type": "code",
      "execution_count": null,
      "metadata": {
        "colab": {
          "base_uri": "https://localhost:8080/"
        },
        "id": "B3qMPn4bB-pR",
        "outputId": "96ac2245-036c-430f-c9eb-50405a473c68"
      },
      "outputs": [
        {
          "output_type": "stream",
          "name": "stdout",
          "text": [
            "Write FullName?: CODE XTM\n",
            "How Long Have You Been Into Tech? Write Number In Words: Seven\n",
            "What Processor you currently Rocking?: Ryzen 9 9800X3D\n",
            "With GPU?: Gigabyte RTX 4070Ti Super\n",
            "Rams? Write with Model(i.e: DDR4/DDR5): Gskill 64GB 7200mhz DDR5\n",
            "Storage? Write With Form Factor (i.e: HDD/SSD/Nvme): 2tb Kingston Gen4 Nvme\n",
            "Motherboard? Write Full Name: Asus Rog X870 DarkHero\n",
            "Juiced Up By Which PowerSupply?: Rog Thor 1000w\n",
            "Thats Awesome So In Which Casing These All Items Are Packed In: Lian Li O11 Dynamic Evo\n",
            "Hi there! My name is CODE XTM, and I’ve been a tech enthusiast for the past Seven years. I have a huge interest in gaming and high-performance gaming PCs. Owning a powerful gaming rig is an amazing experience, and mine is packed with some incredible specs.My PC features a Ryzen 9 9800X3D processor paired with an Gigabyte RTX 4070Ti Super GPU. For memory, I have Gskill 64GB 7200mhz DDR5 RAM and a 2tb Kingston Gen4 Nvme SSD. All of this is built on an Asus Rog X870 DarkHero motherboard. To power everything, I use an Rog Thor 1000w PSU, and it's all housed in the Lian Li O11 Dynamic Evo case.\n"
          ]
        }
      ],
      "source": [
        "#Providing Give Input Values\n",
        "\n",
        "name = input(\"Write FullName?: \")\n",
        "years = input(\"How Long Have You Been Into Tech? Write Number In Words: \")\n",
        "processor = input(\"What Processor you currently Rocking?: \")\n",
        "gpu = input(\"With GPU?: \")\n",
        "rams = input(\"Rams? Write with Model(i.e: DDR4/DDR5): \")\n",
        "ssd = input(\"Storage? Write With Form Factor (i.e: HDD/SSD/Nvme): \")\n",
        "mobo = input(\"Motherboard? Write Full Name: \")\n",
        "psu = input(\"Juiced Up By Which PowerSupply?: \")\n",
        "casing = input(\"Thats Awesome So In Which Casing These All Items Are Packed In: \")\n",
        "\n",
        "madlibs = f\"Hi there! My name is {name}, and I’ve been a tech enthusiast for the past {years} years. I have a huge interest in gaming and high-performance gaming PCs. Owning a powerful gaming rig is an amazing experience, and mine is packed with some incredible specs.My PC features a {processor} processor paired with an {gpu} GPU. For memory, I have {rams} RAM and a {ssd} SSD. All of this is built on an {mobo} motherboard. To power everything, I use an {psu} PSU, and it's all housed in the {casing} case.\"\n",
        "\n",
        "print(madlibs)"
      ]
    }
  ]
}